{
 "cells": [
  {
   "cell_type": "markdown",
   "metadata": {},
   "source": [
    "# CLassifier"
   ]
  },
  {
   "cell_type": "code",
   "execution_count": 45,
   "metadata": {},
   "outputs": [],
   "source": [
    "import numpy as np\n",
    "from sklearn.cross_validation import train_test_split\n",
    "import keras\n",
    "from keras.datasets import mnist\n",
    "from keras.models import Sequential\n",
    "from keras.layers import Dense, Dropout\n",
    "from keras.optimizers import RMSprop\n"
   ]
  },
  {
   "cell_type": "code",
   "execution_count": 62,
   "metadata": {},
   "outputs": [],
   "source": [
    "feature_arrays, label_arrays = np.load('feature_semaforos.npy'), np.load('label_semaforos.npy')"
   ]
  },
  {
   "cell_type": "code",
   "execution_count": 63,
   "metadata": {},
   "outputs": [],
   "source": [
    "for i , value in enumerate(label_arrays):\n",
    "    if value == 'green':\n",
    "        label_arrays[i] = 1\n",
    "    elif value =='black':\n",
    "        label_arrays[i] = 0\n",
    "    elif value == 'red':\n",
    "        label_arrays[i] = 2\n",
    "    else:\n",
    "        print('nothing to do')"
   ]
  },
  {
   "cell_type": "code",
   "execution_count": 72,
   "metadata": {},
   "outputs": [],
   "source": [
    "x_train, x_test, y_train, y_test = train_test_split(feature_arrays, label_arrays, test_size=0.2, random_state=42)\n"
   ]
  },
  {
   "cell_type": "code",
   "execution_count": 73,
   "metadata": {
    "scrolled": true
   },
   "outputs": [
    {
     "name": "stdout",
     "output_type": "stream",
     "text": [
      "1440 train samples\n",
      "361 test samples\n",
      "(1440, 3)\n",
      "_________________________________________________________________\n",
      "Layer (type)                 Output Shape              Param #   \n",
      "=================================================================\n",
      "dense_16 (Dense)             (None, 512)               295424    \n",
      "_________________________________________________________________\n",
      "dropout_11 (Dropout)         (None, 512)               0         \n",
      "_________________________________________________________________\n",
      "dense_17 (Dense)             (None, 512)               262656    \n",
      "_________________________________________________________________\n",
      "dropout_12 (Dropout)         (None, 512)               0         \n",
      "_________________________________________________________________\n",
      "dense_18 (Dense)             (None, 3)                 1539      \n",
      "=================================================================\n",
      "Total params: 559,619\n",
      "Trainable params: 559,619\n",
      "Non-trainable params: 0\n",
      "_________________________________________________________________\n",
      "Train on 1440 samples, validate on 361 samples\n",
      "Epoch 1/20\n",
      " 480/1440 [=========>....................] - ETA: 0s - loss: 0.8688 - acc: 0.6104"
     ]
    },
    {
     "name": "stderr",
     "output_type": "stream",
     "text": [
      "/home/stanlee321/.local/share/virtualenvs/cntk/lib/python3.5/site-packages/cntk/core.py:361: UserWarning: your data is of type \"float64\", but your input variable (uid \"Input1878\") expects \"<class 'numpy.float32'>\". Please convert your data beforehand to speed up training.\n",
      "  (sample.dtype, var.uid, str(var.dtype)))\n"
     ]
    },
    {
     "name": "stdout",
     "output_type": "stream",
     "text": [
      "1440/1440 [==============================] - 1s 378us/step - loss: 0.6848 - acc: 0.8000 - val_loss: 0.4078 - val_acc: 0.9141\n",
      "Epoch 2/20\n",
      "1440/1440 [==============================] - 0s 235us/step - loss: 0.3482 - acc: 0.9292 - val_loss: 0.2358 - val_acc: 0.9557\n",
      "Epoch 3/20\n",
      "1440/1440 [==============================] - 0s 236us/step - loss: 0.1855 - acc: 0.9549 - val_loss: 0.1391 - val_acc: 0.9612\n",
      "Epoch 4/20\n",
      "1440/1440 [==============================] - 0s 279us/step - loss: 0.1368 - acc: 0.9646 - val_loss: 0.1156 - val_acc: 0.9640\n",
      "Epoch 5/20\n",
      "1440/1440 [==============================] - 0s 270us/step - loss: 0.1533 - acc: 0.9660 - val_loss: 0.1625 - val_acc: 0.9695\n",
      "Epoch 6/20\n",
      "1440/1440 [==============================] - 0s 219us/step - loss: 0.1005 - acc: 0.9722 - val_loss: 0.1436 - val_acc: 0.9668\n",
      "Epoch 7/20\n",
      "1440/1440 [==============================] - 0s 266us/step - loss: 0.1083 - acc: 0.9708 - val_loss: 0.2646 - val_acc: 0.9557\n",
      "Epoch 8/20\n",
      "1440/1440 [==============================] - 0s 253us/step - loss: 0.1219 - acc: 0.9715 - val_loss: 0.2184 - val_acc: 0.9612\n",
      "Epoch 9/20\n",
      "1440/1440 [==============================] - 0s 232us/step - loss: 0.1286 - acc: 0.9708 - val_loss: 0.1890 - val_acc: 0.9640\n",
      "Epoch 10/20\n",
      "1440/1440 [==============================] - 0s 255us/step - loss: 0.0918 - acc: 0.9743 - val_loss: 0.1405 - val_acc: 0.9695\n",
      "Epoch 11/20\n",
      "1440/1440 [==============================] - 0s 238us/step - loss: 0.1043 - acc: 0.9722 - val_loss: 0.2243 - val_acc: 0.9640\n",
      "Epoch 12/20\n",
      "1440/1440 [==============================] - 0s 275us/step - loss: 0.1148 - acc: 0.9736 - val_loss: 0.2613 - val_acc: 0.9584\n",
      "Epoch 13/20\n",
      "1440/1440 [==============================] - 0s 255us/step - loss: 0.1033 - acc: 0.9778 - val_loss: 0.3317 - val_acc: 0.9501\n",
      "Epoch 14/20\n",
      "1440/1440 [==============================] - 0s 256us/step - loss: 0.0852 - acc: 0.9757 - val_loss: 0.2817 - val_acc: 0.9474\n",
      "Epoch 15/20\n",
      "1440/1440 [==============================] - 0s 237us/step - loss: 0.0603 - acc: 0.9826 - val_loss: 0.2338 - val_acc: 0.9612\n",
      "Epoch 16/20\n",
      "1440/1440 [==============================] - 0s 232us/step - loss: 0.0753 - acc: 0.9778 - val_loss: 0.2126 - val_acc: 0.9640\n",
      "Epoch 17/20\n",
      "1440/1440 [==============================] - 0s 263us/step - loss: 0.0653 - acc: 0.9847 - val_loss: 0.2558 - val_acc: 0.9584\n",
      "Epoch 18/20\n",
      "1440/1440 [==============================] - 0s 272us/step - loss: 0.0819 - acc: 0.9792 - val_loss: 0.3051 - val_acc: 0.9557\n",
      "Epoch 19/20\n",
      "1440/1440 [==============================] - 0s 268us/step - loss: 0.0726 - acc: 0.9847 - val_loss: 0.5728 - val_acc: 0.9252\n",
      "Epoch 20/20\n",
      "1440/1440 [==============================] - 0s 227us/step - loss: 0.1046 - acc: 0.9806 - val_loss: 0.2419 - val_acc: 0.9557\n",
      "Test loss: 0.241866352509\n",
      "Test accuracy: 0.95567867036\n"
     ]
    }
   ],
   "source": [
    "batch_size = 32\n",
    "num_classes = 3\n",
    "epochs = 20\n",
    "\n",
    "x_train = x_train.astype('float32')\n",
    "x_test = x_test.astype('float32')\n",
    "x_train /= 255\n",
    "x_test /= 255\n",
    "print(x_train.shape[0], 'train samples')\n",
    "print(x_test.shape[0], 'test samples')\n",
    "\n",
    "# convert class vectors to binary class matrices\n",
    "y_train = keras.utils.to_categorical(y_train, num_classes)\n",
    "\n",
    "y_test = keras.utils.to_categorical(y_test, num_classes)\n",
    "\n",
    "print(y_train.shape)\n",
    "\n",
    "model = Sequential()\n",
    "model.add(Dense(512, activation='relu', input_shape=(576,)))\n",
    "model.add(Dropout(0.2))\n",
    "model.add(Dense(512, activation='relu'))\n",
    "model.add(Dropout(0.2))\n",
    "model.add(Dense(num_classes, activation='softmax'))\n",
    "model.summary()\n",
    "\n",
    "model.compile(loss='categorical_crossentropy',\n",
    "              optimizer=RMSprop(),\n",
    "              metrics=['accuracy'])\n",
    "\n",
    "history = model.fit(x_train, y_train,\n",
    "                    batch_size=batch_size,\n",
    "                    epochs=epochs,\n",
    "                    verbose=1,\n",
    "                    validation_data=(x_test, y_test))\n",
    "score = model.evaluate(x_test, y_test, verbose=0)\n",
    "\n",
    "model.save('semaphoro_model.h5')\n",
    "\n",
    "print('Test loss:', score[0])\n",
    "print('Test accuracy:', score[1])\n"
   ]
  },
  {
   "cell_type": "markdown",
   "metadata": {},
   "source": [
    "# TEST MODEL"
   ]
  },
  {
   "cell_type": "code",
   "execution_count": 6,
   "metadata": {},
   "outputs": [],
   "source": [
    "def preprocess_input(x):\n",
    "    x = x / 255\n",
    "    x = x.reshape((1,576))\n",
    "    return x"
   ]
  },
  {
   "cell_type": "code",
   "execution_count": 7,
   "metadata": {},
   "outputs": [
    {
     "name": "stderr",
     "output_type": "stream",
     "text": [
      "Using CNTK backend\n"
     ]
    },
    {
     "name": "stdout",
     "output_type": "stream",
     "text": [
      "[[  0.00000000e+00   1.00000000e+00   1.01558615e-35]]\n"
     ]
    },
    {
     "data": {
      "image/png": "[encoded data removed]",
      "text/plain": [
       "<matplotlib.figure.Figure at 0x7f1d3eae23c8>"
      ]
     },
     "metadata": {},
     "output_type": "display_data"
    }
   ],
   "source": [
    "import matplotlib.pyplot as plt\n",
    "from matplotlib.pyplot import imshow\n",
    "%matplotlib inline\n",
    "\n",
    "import numpy as np\n",
    "from keras.models import load_model\n",
    "from keras.preprocessing import image\n",
    "\n",
    "img_path = './1.png'\n",
    "img = image.load_img(img_path, target_size=(24, 8))\n",
    "imshow(img)\n",
    "\n",
    "model = load_model('semaphoro_model20epochs.h5')\n",
    "\n",
    "x = image.img_to_array(img)\n",
    "x = np.expand_dims(x, axis=0)\n",
    "x = preprocess_input(x)\n",
    "\n",
    "print(model.predict(x))"
   ]
  },
  {
   "cell_type": "code",
   "execution_count": 92,
   "metadata": {},
   "outputs": [
    {
     "data": {
      "text/plain": [
       "1.0"
      ]
     },
     "execution_count": 92,
     "metadata": {},
     "output_type": "execute_result"
    }
   ],
   "source": [
    "a = [  0.00000000e+00, 1.00000000e+00, 1.01558615e-35]\n",
    "max(a)"
   ]
  },
  {
   "cell_type": "code",
   "execution_count": 95,
   "metadata": {},
   "outputs": [
    {
     "data": {
      "text/plain": [
       "1"
      ]
     },
     "execution_count": 95,
     "metadata": {},
     "output_type": "execute_result"
    }
   ],
   "source": [
    "a.index(max(a))"
   ]
  },
  {
   "cell_type": "code",
   "execution_count": 106,
   "metadata": {},
   "outputs": [
    {
     "name": "stdout",
     "output_type": "stream",
     "text": [
      "[[ 0.  1.  0.]]\n"
     ]
    },
    {
     "data": {
      "image/png": "[encoded data removed]",
      "text/plain": [
       "<matplotlib.figure.Figure at 0x7fadfbf5cc18>"
      ]
     },
     "metadata": {},
     "output_type": "display_data"
    }
   ],
   "source": [
    "img_path = './3.jpg'\n",
    "img = image.load_img(img_path, target_size=(24, 8))\n",
    "imshow(img)\n",
    "\n",
    "x = image.img_to_array(img)\n",
    "x = np.expand_dims(x, axis=0)\n",
    "x = preprocess_input(x)\n",
    "\n",
    "print(model.predict(x))"
   ]
  },
  {
   "cell_type": "code",
   "execution_count": 101,
   "metadata": {},
   "outputs": [
    {
     "data": {
      "text/plain": [
       "2"
      ]
     },
     "execution_count": 101,
     "metadata": {},
     "output_type": "execute_result"
    }
   ],
   "source": [
    "a = [  3.13613059e-11,   6.36859145e-03,   9.93631363e-01]\n",
    "a.index(max(a))"
   ]
  },
  {
   "cell_type": "code",
   "execution_count": 102,
   "metadata": {},
   "outputs": [
    {
     "name": "stdout",
     "output_type": "stream",
     "text": [
      "[[  0.00000000e+00   3.09766114e-21   1.00000000e+00]]\n"
     ]
    },
    {
     "data": {
      "image/png": "[encoded data removed]",
      "text/plain": [
       "<matplotlib.figure.Figure at 0x7fadfbe49a90>"
      ]
     },
     "metadata": {},
     "output_type": "display_data"
    }
   ],
   "source": [
    "img_path = './6.jpg'\n",
    "img = image.load_img(img_path, target_size=(24, 8))\n",
    "imshow(img)\n",
    "\n",
    "x = image.img_to_array(img)\n",
    "x = np.expand_dims(x, axis=0)\n",
    "x = preprocess_input(x)\n",
    "\n",
    "print(model.predict(x))"
   ]
  },
  {
   "cell_type": "code",
   "execution_count": 103,
   "metadata": {},
   "outputs": [
    {
     "name": "stdout",
     "output_type": "stream",
     "text": [
      "[[ 0.  1.  0.]]\n"
     ]
    },
    {
     "data": {
      "image/png": "[encoded data removed]",
      "text/plain": [
       "<matplotlib.figure.Figure at 0x7fadfbefba58>"
      ]
     },
     "metadata": {},
     "output_type": "display_data"
    }
   ],
   "source": [
    "img_path = './4.jpg'\n",
    "img = image.load_img(img_path, target_size=(24, 8))\n",
    "imshow(img)\n",
    "\n",
    "x = image.img_to_array(img)\n",
    "x = np.expand_dims(x, axis=0)\n",
    "x = preprocess_input(x)\n",
    "\n",
    "print(model.predict(x))"
   ]
  },
  {
   "cell_type": "markdown",
   "metadata": {},
   "source": [
    "# KERAS TO CNTK"
   ]
  },
  {
   "cell_type": "code",
   "execution_count": 121,
   "metadata": {},
   "outputs": [
    {
     "name": "stdout",
     "output_type": "stream",
     "text": [
      "model loadded <class 'cntk.ops.functions.Function'>\n"
     ]
    }
   ],
   "source": [
    "# KERAS TO CNTK\n",
    "import cntk\n",
    "\n",
    "keras_model = load_model('semaphoro_model20epochs.h5')\n",
    "\n",
    "cntk.combine(keras_model.model.outputs).save('my_semaphoro_cntk_model.cntk')\n",
    "\n",
    "cntk_model = cntk.load_model('my_semaphoro_cntk_model.dnn')\n",
    "\n",
    "print('model loadded', type(cntk_model))\n"
   ]
  },
  {
   "cell_type": "code",
   "execution_count": 122,
   "metadata": {},
   "outputs": [],
   "source": [
    "loaded_model = cntk.load_model('my_semaphoro_cntk_model.cntk')"
   ]
  },
  {
   "cell_type": "code",
   "execution_count": 8,
   "metadata": {},
   "outputs": [
    {
     "data": {
      "image/png": "[encoded data removed]",
      "text/plain": [
       "<matplotlib.figure.Figure at 0x7f1d3ead63c8>"
      ]
     },
     "metadata": {},
     "output_type": "display_data"
    }
   ],
   "source": [
    "from cntk.ops.functions import load_model\n",
    "\n",
    "z = load_model(\"my_semaphoro_cntk_model.cntk\")\n",
    "\n",
    "img_path = './4.jpg'\n",
    "img = image.load_img(img_path, target_size=(24, 8))\n",
    "imshow(img)\n",
    "\n",
    "x = image.img_to_array(img)\n",
    "x = np.expand_dims(x, axis=0)\n",
    "x = preprocess_input(x)\n",
    "\n",
    "predictions = np.squeeze(z.eval({z.arguments[0]:[x]}))\n",
    "top_class = np.argmax(predictions)"
   ]
  },
  {
   "cell_type": "code",
   "execution_count": 9,
   "metadata": {},
   "outputs": [
    {
     "name": "stdout",
     "output_type": "stream",
     "text": [
      "[ 0.  1.  0.]\n"
     ]
    }
   ],
   "source": [
    "print(predictions)"
   ]
  },
  {
   "cell_type": "code",
   "execution_count": 10,
   "metadata": {},
   "outputs": [
    {
     "name": "stdout",
     "output_type": "stream",
     "text": [
      "1\n"
     ]
    }
   ],
   "source": [
    "print(top_class)"
   ]
  }
 ],
 "metadata": {
  "kernelspec": {
   "display_name": "Python 3",
   "language": "python",
   "name": "python3"
  },
  "language_info": {
   "codemirror_mode": {
    "name": "ipython",
    "version": 3
   },
   "file_extension": ".py",
   "mimetype": "text/x-python",
   "name": "python",
   "nbconvert_exporter": "python",
   "pygments_lexer": "ipython3",
   "version": "3.5.3+"
  }
 },
 "nbformat": 4,
 "nbformat_minor": 2
}
